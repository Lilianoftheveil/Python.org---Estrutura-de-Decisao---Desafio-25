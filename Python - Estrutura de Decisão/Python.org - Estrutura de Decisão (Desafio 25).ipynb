{
 "cells": [
  {
   "cell_type": "code",
   "execution_count": null,
   "id": "f704985c",
   "metadata": {},
   "outputs": [],
   "source": [
    "Python - Lista de Exercícios (Estrutura de Decisão) \n",
    "link: https://wiki.python.org.br/EstruturaDeDecisao"
   ]
  },
  {
   "cell_type": "markdown",
   "id": "0788cfd9",
   "metadata": {},
   "source": [
    "25) Faça um programa que faça 5 perguntas para uma pessoa sobre um crime. As perguntas são:\n",
    "\n",
    "a. \"Telefonou para a vítima?\"\n",
    "b. \"Esteve no local do crime?\"\n",
    "c. \"Mora perto da vítima?\"\n",
    "d. \"Devia para a vítima?\"\n",
    "e. \"Já trabalhou com a vítima?\"\n",
    "\n",
    "O programa deve no final emitir uma classificação sobre a participação da pessoa no crime. Se a pessoa responder positivamente a 2 questões ela deve ser classificada como \"Suspeita\", entre 3 e 4 como \"Cúmplice\" e 5 como \"Assassino\". Caso contrário, ele será classificado como \"Inocente\"."
   ]
  },
  {
   "cell_type": "code",
   "execution_count": null,
   "id": "6d7cf684",
   "metadata": {},
   "outputs": [],
   "source": [
    "Obs.: Visando desenvolver o programa de forma mais dinâmica e menos suscetível a erros, adicionei \n",
    "outras estruturas no corpo do código. De modo que apenas strings válidas sejam aceitas\n",
    "durante sua execução."
   ]
  },
  {
   "cell_type": "code",
   "execution_count": null,
   "id": "eb6d47b6",
   "metadata": {},
   "outputs": [],
   "source": [
    "while True:\n",
    "  a = input(\"Telefonou para a vítima? Sim (S) / Não (N)\\n\").upper()\n",
    "  b = input(\"Esteve no local do crime? Sim (S) / Não (N)\\n\").upper()\n",
    "  c = input(\"Mora perto da vítima? Sim (S) / Não (N)\\n\").upper()\n",
    "  d = input(\"Devia para a vítima? Sim (S) / Não (N)\\n\").upper()\n",
    "  e = input(\"Já trabalhou com a vítima? Sim (S) / Não (N)\\n\").upper()\n",
    "  if a != \"S\" and a != \"N\" or b != \"S\" and b != \"N\" or c != \"S\" and c != \"N\" or d != \"S\" and d != \"N\" or e != \"S\" and e != \"N\":\n",
    "    print(\"Por favor, digite apenas uma letra para cada questão (S ou N).\")\n",
    "    continue\n",
    "  else:\n",
    "    break\n",
    "\n",
    "l = [a, b, c, d, e]\n",
    "c = 0\n",
    "for x in l:\n",
    "  if x == \"S\":\n",
    "    c = c + 1\n",
    "\n",
    "if c == 0:\n",
    "  print(\"Inocente\")\n",
    "elif c == 2:\n",
    "  print(\"Suspeito\")\n",
    "elif c == 3 or c == 4:\n",
    "  print(\"Cúmplice\")\n",
    "else:\n",
    "  print(\"Assasino\")"
   ]
  }
 ],
 "metadata": {
  "kernelspec": {
   "display_name": "Python 3 (ipykernel)",
   "language": "python",
   "name": "python3"
  },
  "language_info": {
   "codemirror_mode": {
    "name": "ipython",
    "version": 3
   },
   "file_extension": ".py",
   "mimetype": "text/x-python",
   "name": "python",
   "nbconvert_exporter": "python",
   "pygments_lexer": "ipython3",
   "version": "3.8.10"
  }
 },
 "nbformat": 4,
 "nbformat_minor": 5
}
